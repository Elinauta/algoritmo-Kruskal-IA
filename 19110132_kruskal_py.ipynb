{
  "nbformat": 4,
  "nbformat_minor": 0,
  "metadata": {
    "colab": {
      "name": "19110132_kruskal.py",
      "provenance": [],
      "authorship_tag": "ABX9TyMy/HLKNAFQG3cYvIx7kjTM",
      "include_colab_link": true
    },
    "kernelspec": {
      "name": "python3",
      "display_name": "Python 3"
    }
  },
  "cells": [
    {
      "cell_type": "markdown",
      "metadata": {
        "id": "view-in-github",
        "colab_type": "text"
      },
      "source": [
        "<a href=\"https://colab.research.google.com/github/Elinauta/algoritmo-Kruskal-IA/blob/main/19110132_kruskal_py.ipynb\" target=\"_parent\"><img src=\"https://colab.research.google.com/assets/colab-badge.svg\" alt=\"Open In Colab\"/></a>"
      ]
    },
    {
      "cell_type": "code",
      "metadata": {
        "id": "Li51OyERDf5f",
        "colab": {
          "base_uri": "https://localhost:8080/"
        },
        "outputId": "b90ec970-fc24-4617-8ccf-e148f9320256"
      },
      "source": [
        "#      Cuaya Padilla Maria Elizabeth 19110132 5°E1\n",
        "#              EXAMEN PRIMER PARCIAL\n",
        "#           Ejercicio 2.- Algoritmo Kruskal\n",
        "\n",
        "\n",
        "\"\"\"\n",
        "  1)Se seleciona de entre todas las aristas restantes la de menor peso\n",
        "  2)No debe crear ningun ciclo\n",
        "  3)Se repite hasta que se haya seleccionado numero de vertices -1 aristas\n",
        "\"\"\"\n",
        "\n",
        "\n",
        "# Implementación del algoritmo Kruskal\n",
        "\n",
        "# Variables globales\n",
        "base = dict()\n",
        "ord = dict()\n",
        "\n",
        "# Función para generar conuntos\n",
        "def make_set(v):\n",
        "    base[v] = v\n",
        "    ord[v] = 0\n",
        "\n",
        "# Implementación de la función de búsqueda\n",
        "# de manera recursiva\n",
        "def find(v):\n",
        "    if base[v] != v:\n",
        "        base[v] = find(base[v])\n",
        "    return base[v]\n",
        "\n",
        "# Implementación de la unión de conjuntos\n",
        "def union(u, v):\n",
        "    v1 = find(u)\n",
        "    v2 = find(v)\n",
        "    if v1 != v2:\n",
        "        if ord[v1] > ord[v2]:\n",
        "            base[v2] = v1\n",
        "        else:\n",
        "            base[v1] = v2\n",
        "            if ord[v1] == ord[v2]:\n",
        "                ord[v2] += 1\n",
        "\n",
        "\n",
        "# Función principal del algoritmo Kruskal\n",
        "def kruskal(graph):\n",
        "    # A = {conjunto vacío}\n",
        "    mst = set()\n",
        "\n",
        "    # Para todo vértice v en G.V\n",
        "    for v in graph['vertices']:\n",
        "        make_set(v)\n",
        "  #  print(\"Sub gráficos creados:\")\n",
        "   # print(base)\n",
        "\n",
        "    # Ordena la lista G.E en forma no decendente por su peso w\n",
        "    # En este caso usamos el ordenador dentro de python\n",
        "    edges = list(graph['edges'])\n",
        "    edges.sort()\n",
        "\n",
        "   # print(\"Aristas ordenadas:\")\n",
        "#    print(edges)\n",
        "\n",
        "    # Para toda arista(u,v) en G.E\n",
        "    for e in edges:\n",
        "        weight, u, v = e\n",
        "        # Si encontrar-conjunto(u) != encontrar-conjunto(v)\n",
        "        if find(u) != find(v):\n",
        "            # A = A union (u,v)\n",
        "            union(u, v)\n",
        "            # Union(u,v)\n",
        "            mst.add(e)\n",
        "    return mst\n",
        "\n",
        "\n",
        "graph = {\n",
        "    'vertices': ['1', '2', '3', '4', '5', '6'],\n",
        "    'edges': set([\n",
        "        (4, '1', '2'),\n",
        "        (2, '1', '3'),\n",
        "        (3, '1', '6'),\n",
        "        (5, '2', '4'),\n",
        "        (1, '3', '4'),\n",
        "        (3, '3', '5'),\n",
        "        (6, '3', '6'),\n",
        "        (6, '4', '5'),\n",
        "        (2, '5', '6'),\n",
        "    ])\n",
        "}\n",
        "\n",
        "k = kruskal(graph)\n",
        "print(\"Grafo Resultante del sistema de carreteras:\")\n",
        "print(k)"
      ],
      "execution_count": null,
      "outputs": [
        {
          "output_type": "stream",
          "text": [
            "Grafo Resultante del sistema de carreteras:\n",
            "{(3, '1', '6'), (2, '1', '3'), (4, '1', '2'), (2, '5', '6'), (1, '3', '4')}\n"
          ],
          "name": "stdout"
        }
      ]
    }
  ]
}